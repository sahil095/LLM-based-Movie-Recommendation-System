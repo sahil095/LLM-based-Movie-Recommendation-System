{
 "cells": [
  {
   "cell_type": "code",
   "execution_count": 3,
   "id": "d1388003",
   "metadata": {},
   "outputs": [],
   "source": [
    "# Import libraries\n",
    "import pandas as pd\n",
    "import numpy as np\n",
    "import requests\n",
    "from bs4 import BeautifulSoup"
   ]
  },
  {
   "cell_type": "code",
   "execution_count": 146,
   "id": "dec4a6c3",
   "metadata": {},
   "outputs": [],
   "source": [
    "headers = ({'User-Agent':\n",
    "            'Chrome/138.0.7204.158',\n",
    "           'Accept-Language': 'en-US, en;q=0.5'})\n",
    "\n",
    "base_url = 'https://www.imdb.com/search/title/?title_type=feature&primary_language=en'\n",
    "page = 3"
   ]
  },
  {
   "cell_type": "code",
   "execution_count": 151,
   "id": "cc2b354c",
   "metadata": {},
   "outputs": [
    {
     "data": {
      "text/plain": [
       "<Response [200]>"
      ]
     },
     "execution_count": 151,
     "metadata": {},
     "output_type": "execute_result"
    }
   ],
   "source": [
    "page = requests.get(base_url, headers=headers)\n",
    "page"
   ]
  },
  {
   "cell_type": "code",
   "execution_count": 148,
   "id": "3b61b954",
   "metadata": {},
   "outputs": [],
   "source": [
    "soup = BeautifulSoup(page.text, 'html.parser')"
   ]
  },
  {
   "cell_type": "code",
   "execution_count": null,
   "id": "42b65d3f",
   "metadata": {},
   "outputs": [],
   "source": []
  },
  {
   "cell_type": "code",
   "execution_count": 149,
   "id": "556da730",
   "metadata": {},
   "outputs": [],
   "source": [
    "\n",
    "movies_data = soup.find_all('li', attrs={'class':'ipc-metadata-list-summary-item'})"
   ]
  },
  {
   "cell_type": "code",
   "execution_count": 150,
   "id": "545c265c",
   "metadata": {},
   "outputs": [
    {
     "data": {
      "text/plain": [
       "25"
      ]
     },
     "execution_count": 150,
     "metadata": {},
     "output_type": "execute_result"
    }
   ],
   "source": [
    "len(movies_data)"
   ]
  },
  {
   "cell_type": "code",
   "execution_count": 135,
   "id": "1b2e7bd5",
   "metadata": {},
   "outputs": [
    {
     "data": {
      "text/plain": [
       "['25.', 'The', 'Phoenician', 'Scheme']"
      ]
     },
     "execution_count": 135,
     "metadata": {},
     "output_type": "execute_result"
    }
   ],
   "source": [
    "# Movie name\n",
    "movies_data[24].h3.text.split()"
   ]
  },
  {
   "cell_type": "code",
   "execution_count": 105,
   "id": "7cf6ee8a",
   "metadata": {},
   "outputs": [
    {
     "data": {
      "text/plain": [
       "'68'"
      ]
     },
     "execution_count": 105,
     "metadata": {},
     "output_type": "execute_result"
    }
   ],
   "source": [
    "# Year of release, runtime, rating, meta score\n",
    "\n",
    "title_metadata = movies_data.find_all(\"span\", class_='dli-title-metadata-item')\n",
    "title_metadata[0].text\n",
    "title_metadata[1].text\n",
    "title_metadata[2].text\n",
    "movies_data.find(\"span\", class_='metacritic-score-box').text"
   ]
  },
  {
   "cell_type": "code",
   "execution_count": null,
   "id": "af1b119f",
   "metadata": {},
   "outputs": [
    {
     "data": {
      "text/plain": [
       "'7.6'"
      ]
     },
     "execution_count": 107,
     "metadata": {},
     "output_type": "execute_result"
    }
   ],
   "source": [
    "# Rating\n",
    "movies_data.find('span', class_='ipc-rating-star--rating').text"
   ]
  },
  {
   "cell_type": "code",
   "execution_count": 110,
   "id": "1bf0c1f3",
   "metadata": {},
   "outputs": [
    {
     "data": {
      "text/plain": [
       "<button aria-label=\"Rate Superman\" class=\"ipc-rate-button sc-17ce9e4b-1 flqkCx ratingGroup--user-rating ipc-rate-button--unrated ipc-rate-button--base\" data-testid=\"rate-button\"><span class=\"ipc-rating-star ipc-rating-star--base ipc-rating-star--rate\"><svg class=\"ipc-icon ipc-icon--star-border-inline\" fill=\"currentColor\" height=\"24\" role=\"presentation\" viewbox=\"0 0 24 24\" width=\"24\" xmlns=\"http://www.w3.org/2000/svg\"><path d=\"M22.724 8.217l-6.786-.587-2.65-6.22c-.477-1.133-2.103-1.133-2.58 0l-2.65 6.234-6.772.573c-1.234.098-1.739 1.636-.8 2.446l5.146 4.446-1.542 6.598c-.28 1.202 1.023 2.153 2.09 1.51l5.818-3.495 5.819 3.509c1.065.643 2.37-.308 2.089-1.51l-1.542-6.612 5.145-4.446c.94-.81.45-2.348-.785-2.446zm-10.726 8.89l-5.272 3.174 1.402-5.983-4.655-4.026 6.141-.531 2.384-5.634 2.398 5.648 6.14.531-4.654 4.026 1.402 5.983-5.286-3.187z\"></path></svg><span class=\"ipc-rating-star--rate\">Rate</span></span></button>"
      ]
     },
     "execution_count": 110,
     "metadata": {},
     "output_type": "execute_result"
    }
   ],
   "source": [
    "movies_data.find('button')"
   ]
  },
  {
   "cell_type": "code",
   "execution_count": null,
   "id": "788f4c00",
   "metadata": {},
   "outputs": [],
   "source": []
  },
  {
   "cell_type": "code",
   "execution_count": null,
   "id": "495e9a1f",
   "metadata": {},
   "outputs": [],
   "source": []
  },
  {
   "cell_type": "code",
   "execution_count": null,
   "id": "08237277",
   "metadata": {},
   "outputs": [],
   "source": []
  },
  {
   "cell_type": "code",
   "execution_count": null,
   "id": "a2828abf",
   "metadata": {},
   "outputs": [],
   "source": []
  },
  {
   "cell_type": "code",
   "execution_count": null,
   "id": "d17ec560",
   "metadata": {},
   "outputs": [],
   "source": []
  },
  {
   "cell_type": "code",
   "execution_count": null,
   "id": "2c249fa9",
   "metadata": {},
   "outputs": [],
   "source": []
  },
  {
   "cell_type": "code",
   "execution_count": null,
   "id": "0eb76854",
   "metadata": {},
   "outputs": [],
   "source": []
  },
  {
   "cell_type": "code",
   "execution_count": null,
   "id": "a866a35e",
   "metadata": {},
   "outputs": [],
   "source": []
  },
  {
   "cell_type": "code",
   "execution_count": null,
   "id": "10ec52f9",
   "metadata": {},
   "outputs": [],
   "source": []
  },
  {
   "cell_type": "code",
   "execution_count": null,
   "id": "2569c529",
   "metadata": {},
   "outputs": [],
   "source": []
  },
  {
   "cell_type": "code",
   "execution_count": null,
   "id": "e0def7a8",
   "metadata": {},
   "outputs": [],
   "source": []
  },
  {
   "cell_type": "code",
   "execution_count": null,
   "id": "155f4bc1",
   "metadata": {},
   "outputs": [],
   "source": []
  },
  {
   "cell_type": "code",
   "execution_count": null,
   "id": "0b4f7eee",
   "metadata": {},
   "outputs": [],
   "source": []
  },
  {
   "cell_type": "code",
   "execution_count": null,
   "id": "963c3105",
   "metadata": {},
   "outputs": [],
   "source": []
  },
  {
   "cell_type": "code",
   "execution_count": null,
   "id": "58933556",
   "metadata": {},
   "outputs": [],
   "source": []
  },
  {
   "cell_type": "code",
   "execution_count": null,
   "id": "eeda29d0",
   "metadata": {},
   "outputs": [],
   "source": []
  },
  {
   "cell_type": "code",
   "execution_count": null,
   "id": "3a36faf9",
   "metadata": {},
   "outputs": [],
   "source": []
  },
  {
   "cell_type": "code",
   "execution_count": null,
   "id": "c840790a",
   "metadata": {},
   "outputs": [],
   "source": []
  },
  {
   "cell_type": "code",
   "execution_count": null,
   "id": "c361dcc4",
   "metadata": {},
   "outputs": [],
   "source": []
  },
  {
   "cell_type": "code",
   "execution_count": null,
   "id": "7f436689",
   "metadata": {},
   "outputs": [],
   "source": []
  }
 ],
 "metadata": {
  "kernelspec": {
   "display_name": "mlcourse",
   "language": "python",
   "name": "python3"
  },
  "language_info": {
   "codemirror_mode": {
    "name": "ipython",
    "version": 3
   },
   "file_extension": ".py",
   "mimetype": "text/x-python",
   "name": "python",
   "nbconvert_exporter": "python",
   "pygments_lexer": "ipython3",
   "version": "3.12.0"
  }
 },
 "nbformat": 4,
 "nbformat_minor": 5
}
